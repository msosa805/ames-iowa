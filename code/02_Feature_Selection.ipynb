{
 "cells": [
  {
   "cell_type": "markdown",
   "metadata": {},
   "source": [
    "<img src=\"https://i.imgur.com/JDsOpVN.png\" style=\"float: left; margin: 20px; height: 290px\">\n",
    "\n",
    "# Feature Selection \n",
    "\n",
    "---\n",
    "Predicting House Prices with Linear Regression\n",
    "\n",
    "**Author**: Miriam Sosa\n",
    "1. [Define Features to Model](#Define-Features-to-Model)\n",
    "    - [Model 1](#Model-1)\n",
    "    - [Model 2](#Model-2)\n",
    "    - [Model 3](#Model-3)"
   ]
  },
  {
   "cell_type": "markdown",
   "metadata": {},
   "source": [
    "## Imports"
   ]
  },
  {
   "cell_type": "code",
   "execution_count": 1,
   "metadata": {},
   "outputs": [],
   "source": [
    "import matplotlib.pyplot as plt\n",
    "import numpy as np\n",
    "import pandas as pd           \n",
    "import seaborn as sns\n",
    "\n",
    "from sklearn.model_selection import train_test_split\n",
    "from sklearn.linear_model import LinearRegression"
   ]
  },
  {
   "cell_type": "markdown",
   "metadata": {},
   "source": [
    "## Read-in Data"
   ]
  },
  {
   "cell_type": "code",
   "execution_count": 2,
   "metadata": {},
   "outputs": [],
   "source": [
    "train = pd.read_csv('../data/train_clean.csv', keep_default_na=False, na_values=[''])   \n",
    "test = pd.read_csv('../data/test_clean.csv', keep_default_na=False, na_values=[''])"
   ]
  },
  {
   "cell_type": "markdown",
   "metadata": {},
   "source": [
    "## Data Shape"
   ]
  },
  {
   "cell_type": "code",
   "execution_count": 3,
   "metadata": {},
   "outputs": [
    {
     "data": {
      "text/plain": [
       "((2051, 93), (878, 91))"
      ]
     },
     "execution_count": 3,
     "metadata": {},
     "output_type": "execute_result"
    }
   ],
   "source": [
    "train.shape, test.shape"
   ]
  },
  {
   "cell_type": "markdown",
   "metadata": {},
   "source": [
    "### Define Features to Model "
   ]
  },
  {
   "cell_type": "code",
   "execution_count": 4,
   "metadata": {},
   "outputs": [],
   "source": [
    "features = ['MS Zoning', \n",
    "            'Utilities', \n",
    "            'Neighborhood', \n",
    "            'Mas Vnr Type', \n",
    "            'Foundation', \n",
    "            'Heating', \n",
    "            'Central Air', \n",
    "            'Garage Type', \n",
    "            'Garage Cond', \n",
    "            'pool', \n",
    "            'cond_norm', \n",
    "            'cond_pos', \n",
    "            'LotFrontage', \n",
    "            'Year Built', \n",
    "            'BsmtFin SF 1', \n",
    "            'SF', \n",
    "            'TotRms AbvGrd', \n",
    "            'Garage Cars', \n",
    "            'Garage Area', \n",
    "            'outdoorSF']"
   ]
  },
  {
   "cell_type": "markdown",
   "metadata": {},
   "source": [
    "# Model 1"
   ]
  },
  {
   "cell_type": "code",
   "execution_count": 5,
   "metadata": {},
   "outputs": [],
   "source": [
    "# Removed dummy variables that were not present in test data, and vice versa "
   ]
  },
  {
   "cell_type": "code",
   "execution_count": 6,
   "metadata": {},
   "outputs": [],
   "source": [
    "X = train[features]\n",
    "X = pd.get_dummies(X, columns=['MS Zoning', \n",
    "                               'Utilities', \n",
    "                               'Neighborhood', \n",
    "                               'Mas Vnr Type', \n",
    "                               'Foundation', \n",
    "                               'Heating', \n",
    "                               'Central Air', \n",
    "                               'Garage Type', \n",
    "                               'Garage Cond', \n",
    "                               'pool', \n",
    "                               'cond_norm', \n",
    "                               'cond_pos'], drop_first=True)\n",
    "X.drop(columns=['Neighborhood_GrnHill',\n",
    "                'Neighborhood_Landmrk',\n",
    "                'MS Zoning_C (all)',\n",
    "                'Utilities_NoSeWa',\n",
    "                'Heating_Wall'], inplace=True)\n",
    "y = train['SalePrice']\n",
    "\n",
    "X_train, X_test, y_train, y_test = train_test_split(X, y, random_state = 42)"
   ]
  },
  {
   "cell_type": "code",
   "execution_count": 7,
   "metadata": {},
   "outputs": [
    {
     "data": {
      "text/plain": [
       "(0.8146497291776744, 0.8102039753657923)"
      ]
     },
     "execution_count": 7,
     "metadata": {},
     "output_type": "execute_result"
    }
   ],
   "source": [
    "lr_1 = LinearRegression()\n",
    "lr_1.fit(X_train, y_train)\n",
    "lr_1.score(X_train, y_train), lr_1.score(X_test, y_test)"
   ]
  },
  {
   "cell_type": "code",
   "execution_count": 8,
   "metadata": {
    "scrolled": true
   },
   "outputs": [
    {
     "name": "stdout",
     "output_type": "stream",
     "text": [
      "<class 'pandas.core.frame.DataFrame'>\n",
      "RangeIndex: 2051 entries, 0 to 2050\n",
      "Data columns (total 65 columns):\n",
      " #   Column                Non-Null Count  Dtype  \n",
      "---  ------                --------------  -----  \n",
      " 0   LotFrontage           2051 non-null   float64\n",
      " 1   Year Built            2051 non-null   int64  \n",
      " 2   BsmtFin SF 1          2051 non-null   float64\n",
      " 3   SF                    2051 non-null   int64  \n",
      " 4   TotRms AbvGrd         2051 non-null   int64  \n",
      " 5   Garage Cars           2051 non-null   float64\n",
      " 6   Garage Area           2051 non-null   float64\n",
      " 7   outdoorSF             2051 non-null   int64  \n",
      " 8   MS Zoning_FV          2051 non-null   uint8  \n",
      " 9   MS Zoning_I (all)     2051 non-null   uint8  \n",
      " 10  MS Zoning_RH          2051 non-null   uint8  \n",
      " 11  MS Zoning_RL          2051 non-null   uint8  \n",
      " 12  MS Zoning_RM          2051 non-null   uint8  \n",
      " 13  Utilities_NoSewr      2051 non-null   uint8  \n",
      " 14  Neighborhood_Blueste  2051 non-null   uint8  \n",
      " 15  Neighborhood_BrDale   2051 non-null   uint8  \n",
      " 16  Neighborhood_BrkSide  2051 non-null   uint8  \n",
      " 17  Neighborhood_ClearCr  2051 non-null   uint8  \n",
      " 18  Neighborhood_CollgCr  2051 non-null   uint8  \n",
      " 19  Neighborhood_Crawfor  2051 non-null   uint8  \n",
      " 20  Neighborhood_Edwards  2051 non-null   uint8  \n",
      " 21  Neighborhood_Gilbert  2051 non-null   uint8  \n",
      " 22  Neighborhood_Greens   2051 non-null   uint8  \n",
      " 23  Neighborhood_IDOTRR   2051 non-null   uint8  \n",
      " 24  Neighborhood_MeadowV  2051 non-null   uint8  \n",
      " 25  Neighborhood_Mitchel  2051 non-null   uint8  \n",
      " 26  Neighborhood_NAmes    2051 non-null   uint8  \n",
      " 27  Neighborhood_NPkVill  2051 non-null   uint8  \n",
      " 28  Neighborhood_NWAmes   2051 non-null   uint8  \n",
      " 29  Neighborhood_NoRidge  2051 non-null   uint8  \n",
      " 30  Neighborhood_NridgHt  2051 non-null   uint8  \n",
      " 31  Neighborhood_OldTown  2051 non-null   uint8  \n",
      " 32  Neighborhood_SWISU    2051 non-null   uint8  \n",
      " 33  Neighborhood_Sawyer   2051 non-null   uint8  \n",
      " 34  Neighborhood_SawyerW  2051 non-null   uint8  \n",
      " 35  Neighborhood_Somerst  2051 non-null   uint8  \n",
      " 36  Neighborhood_StoneBr  2051 non-null   uint8  \n",
      " 37  Neighborhood_Timber   2051 non-null   uint8  \n",
      " 38  Neighborhood_Veenker  2051 non-null   uint8  \n",
      " 39  Mas Vnr Type_BrkFace  2051 non-null   uint8  \n",
      " 40  Mas Vnr Type_None     2051 non-null   uint8  \n",
      " 41  Mas Vnr Type_Stone    2051 non-null   uint8  \n",
      " 42  Foundation_CBlock     2051 non-null   uint8  \n",
      " 43  Foundation_PConc      2051 non-null   uint8  \n",
      " 44  Foundation_Slab       2051 non-null   uint8  \n",
      " 45  Foundation_Stone      2051 non-null   uint8  \n",
      " 46  Foundation_Wood       2051 non-null   uint8  \n",
      " 47  Heating_GasW          2051 non-null   uint8  \n",
      " 48  Heating_Grav          2051 non-null   uint8  \n",
      " 49  Heating_OthW          2051 non-null   uint8  \n",
      " 50  Central Air_Y         2051 non-null   uint8  \n",
      " 51  Garage Type_Attchd    2051 non-null   uint8  \n",
      " 52  Garage Type_Basment   2051 non-null   uint8  \n",
      " 53  Garage Type_BuiltIn   2051 non-null   uint8  \n",
      " 54  Garage Type_CarPort   2051 non-null   uint8  \n",
      " 55  Garage Type_Detchd    2051 non-null   uint8  \n",
      " 56  Garage Type_NA        2051 non-null   uint8  \n",
      " 57  Garage Cond_Fa        2051 non-null   uint8  \n",
      " 58  Garage Cond_Gd        2051 non-null   uint8  \n",
      " 59  Garage Cond_NA        2051 non-null   uint8  \n",
      " 60  Garage Cond_Po        2051 non-null   uint8  \n",
      " 61  Garage Cond_TA        2051 non-null   uint8  \n",
      " 62  pool_1                2051 non-null   uint8  \n",
      " 63  cond_norm_1           2051 non-null   uint8  \n",
      " 64  cond_pos_1            2051 non-null   uint8  \n",
      "dtypes: float64(4), int64(4), uint8(57)\n",
      "memory usage: 242.5 KB\n"
     ]
    }
   ],
   "source": [
    "X.info()"
   ]
  },
  {
   "cell_type": "code",
   "execution_count": 9,
   "metadata": {},
   "outputs": [],
   "source": [
    "# Recreate X with test data: test and train data have different values (drop dummy not found in train)"
   ]
  },
  {
   "cell_type": "code",
   "execution_count": 10,
   "metadata": {},
   "outputs": [],
   "source": [
    "X = test[features]\n",
    "X = pd.get_dummies(X, columns=['MS Zoning', \n",
    "                               'Utilities', \n",
    "                               'Neighborhood', \n",
    "                               'Mas Vnr Type', \n",
    "                               'Foundation', \n",
    "                               'Heating', \n",
    "                               'Central Air', \n",
    "                               'Garage Type', \n",
    "                               'Garage Cond', \n",
    "                               'pool', \n",
    "                               'cond_norm', \n",
    "                               'cond_pos'], drop_first=True)\n",
    "X.drop(columns=['Mas Vnr Type_CBlock'], inplace=True)"
   ]
  },
  {
   "cell_type": "code",
   "execution_count": 11,
   "metadata": {
    "scrolled": true
   },
   "outputs": [
    {
     "name": "stdout",
     "output_type": "stream",
     "text": [
      "<class 'pandas.core.frame.DataFrame'>\n",
      "RangeIndex: 878 entries, 0 to 877\n",
      "Data columns (total 65 columns):\n",
      " #   Column                Non-Null Count  Dtype  \n",
      "---  ------                --------------  -----  \n",
      " 0   LotFrontage           878 non-null    float64\n",
      " 1   Year Built            878 non-null    int64  \n",
      " 2   BsmtFin SF 1          878 non-null    int64  \n",
      " 3   SF                    878 non-null    int64  \n",
      " 4   TotRms AbvGrd         878 non-null    int64  \n",
      " 5   Garage Cars           878 non-null    int64  \n",
      " 6   Garage Area           878 non-null    int64  \n",
      " 7   outdoorSF             878 non-null    int64  \n",
      " 8   MS Zoning_FV          878 non-null    uint8  \n",
      " 9   MS Zoning_I (all)     878 non-null    uint8  \n",
      " 10  MS Zoning_RH          878 non-null    uint8  \n",
      " 11  MS Zoning_RL          878 non-null    uint8  \n",
      " 12  MS Zoning_RM          878 non-null    uint8  \n",
      " 13  Utilities_NoSewr      878 non-null    uint8  \n",
      " 14  Neighborhood_Blueste  878 non-null    uint8  \n",
      " 15  Neighborhood_BrDale   878 non-null    uint8  \n",
      " 16  Neighborhood_BrkSide  878 non-null    uint8  \n",
      " 17  Neighborhood_ClearCr  878 non-null    uint8  \n",
      " 18  Neighborhood_CollgCr  878 non-null    uint8  \n",
      " 19  Neighborhood_Crawfor  878 non-null    uint8  \n",
      " 20  Neighborhood_Edwards  878 non-null    uint8  \n",
      " 21  Neighborhood_Gilbert  878 non-null    uint8  \n",
      " 22  Neighborhood_Greens   878 non-null    uint8  \n",
      " 23  Neighborhood_IDOTRR   878 non-null    uint8  \n",
      " 24  Neighborhood_MeadowV  878 non-null    uint8  \n",
      " 25  Neighborhood_Mitchel  878 non-null    uint8  \n",
      " 26  Neighborhood_NAmes    878 non-null    uint8  \n",
      " 27  Neighborhood_NPkVill  878 non-null    uint8  \n",
      " 28  Neighborhood_NWAmes   878 non-null    uint8  \n",
      " 29  Neighborhood_NoRidge  878 non-null    uint8  \n",
      " 30  Neighborhood_NridgHt  878 non-null    uint8  \n",
      " 31  Neighborhood_OldTown  878 non-null    uint8  \n",
      " 32  Neighborhood_SWISU    878 non-null    uint8  \n",
      " 33  Neighborhood_Sawyer   878 non-null    uint8  \n",
      " 34  Neighborhood_SawyerW  878 non-null    uint8  \n",
      " 35  Neighborhood_Somerst  878 non-null    uint8  \n",
      " 36  Neighborhood_StoneBr  878 non-null    uint8  \n",
      " 37  Neighborhood_Timber   878 non-null    uint8  \n",
      " 38  Neighborhood_Veenker  878 non-null    uint8  \n",
      " 39  Mas Vnr Type_BrkFace  878 non-null    uint8  \n",
      " 40  Mas Vnr Type_None     878 non-null    uint8  \n",
      " 41  Mas Vnr Type_Stone    878 non-null    uint8  \n",
      " 42  Foundation_CBlock     878 non-null    uint8  \n",
      " 43  Foundation_PConc      878 non-null    uint8  \n",
      " 44  Foundation_Slab       878 non-null    uint8  \n",
      " 45  Foundation_Stone      878 non-null    uint8  \n",
      " 46  Foundation_Wood       878 non-null    uint8  \n",
      " 47  Heating_GasA          878 non-null    uint8  \n",
      " 48  Heating_GasW          878 non-null    uint8  \n",
      " 49  Heating_Grav          878 non-null    uint8  \n",
      " 50  Central Air_Y         878 non-null    uint8  \n",
      " 51  Garage Type_Attchd    878 non-null    uint8  \n",
      " 52  Garage Type_Basment   878 non-null    uint8  \n",
      " 53  Garage Type_BuiltIn   878 non-null    uint8  \n",
      " 54  Garage Type_CarPort   878 non-null    uint8  \n",
      " 55  Garage Type_Detchd    878 non-null    uint8  \n",
      " 56  Garage Type_NA        878 non-null    uint8  \n",
      " 57  Garage Cond_Fa        878 non-null    uint8  \n",
      " 58  Garage Cond_Gd        878 non-null    uint8  \n",
      " 59  Garage Cond_NA        878 non-null    uint8  \n",
      " 60  Garage Cond_Po        878 non-null    uint8  \n",
      " 61  Garage Cond_TA        878 non-null    uint8  \n",
      " 62  pool_1                878 non-null    uint8  \n",
      " 63  cond_norm_1           878 non-null    uint8  \n",
      " 64  cond_pos_1            878 non-null    uint8  \n",
      "dtypes: float64(1), int64(7), uint8(57)\n",
      "memory usage: 103.9 KB\n"
     ]
    }
   ],
   "source": [
    "X.info()"
   ]
  },
  {
   "cell_type": "code",
   "execution_count": 12,
   "metadata": {},
   "outputs": [],
   "source": [
    "# Generate predicted values for test data and export Kaggle Submission 1"
   ]
  },
  {
   "cell_type": "code",
   "execution_count": 13,
   "metadata": {},
   "outputs": [],
   "source": [
    "kaggle_preds = lr_1.predict(X)"
   ]
  },
  {
   "cell_type": "code",
   "execution_count": 14,
   "metadata": {},
   "outputs": [],
   "source": [
    "test.columns = [column.replace(' ', '_').lower() for column in test.columns]"
   ]
  },
  {
   "cell_type": "code",
   "execution_count": 15,
   "metadata": {},
   "outputs": [],
   "source": [
    "test['saleprice'] = kaggle_preds"
   ]
  },
  {
   "cell_type": "code",
   "execution_count": 16,
   "metadata": {},
   "outputs": [
    {
     "data": {
      "text/html": [
       "<div>\n",
       "<style scoped>\n",
       "    .dataframe tbody tr th:only-of-type {\n",
       "        vertical-align: middle;\n",
       "    }\n",
       "\n",
       "    .dataframe tbody tr th {\n",
       "        vertical-align: top;\n",
       "    }\n",
       "\n",
       "    .dataframe thead th {\n",
       "        text-align: right;\n",
       "    }\n",
       "</style>\n",
       "<table border=\"1\" class=\"dataframe\">\n",
       "  <thead>\n",
       "    <tr style=\"text-align: right;\">\n",
       "      <th></th>\n",
       "      <th>id</th>\n",
       "      <th>saleprice</th>\n",
       "    </tr>\n",
       "  </thead>\n",
       "  <tbody>\n",
       "    <tr>\n",
       "      <th>0</th>\n",
       "      <td>2658</td>\n",
       "      <td>141249.649573</td>\n",
       "    </tr>\n",
       "    <tr>\n",
       "      <th>1</th>\n",
       "      <td>2718</td>\n",
       "      <td>201656.892487</td>\n",
       "    </tr>\n",
       "    <tr>\n",
       "      <th>2</th>\n",
       "      <td>2414</td>\n",
       "      <td>192113.054592</td>\n",
       "    </tr>\n",
       "    <tr>\n",
       "      <th>3</th>\n",
       "      <td>1989</td>\n",
       "      <td>102145.967192</td>\n",
       "    </tr>\n",
       "    <tr>\n",
       "      <th>4</th>\n",
       "      <td>625</td>\n",
       "      <td>169399.433652</td>\n",
       "    </tr>\n",
       "    <tr>\n",
       "      <th>...</th>\n",
       "      <td>...</td>\n",
       "      <td>...</td>\n",
       "    </tr>\n",
       "    <tr>\n",
       "      <th>873</th>\n",
       "      <td>1662</td>\n",
       "      <td>238704.111399</td>\n",
       "    </tr>\n",
       "    <tr>\n",
       "      <th>874</th>\n",
       "      <td>1234</td>\n",
       "      <td>209321.241136</td>\n",
       "    </tr>\n",
       "    <tr>\n",
       "      <th>875</th>\n",
       "      <td>1373</td>\n",
       "      <td>124622.378600</td>\n",
       "    </tr>\n",
       "    <tr>\n",
       "      <th>876</th>\n",
       "      <td>1672</td>\n",
       "      <td>133176.112644</td>\n",
       "    </tr>\n",
       "    <tr>\n",
       "      <th>877</th>\n",
       "      <td>1939</td>\n",
       "      <td>130861.652945</td>\n",
       "    </tr>\n",
       "  </tbody>\n",
       "</table>\n",
       "<p>878 rows × 2 columns</p>\n",
       "</div>"
      ],
      "text/plain": [
       "       id      saleprice\n",
       "0    2658  141249.649573\n",
       "1    2718  201656.892487\n",
       "2    2414  192113.054592\n",
       "3    1989  102145.967192\n",
       "4     625  169399.433652\n",
       "..    ...            ...\n",
       "873  1662  238704.111399\n",
       "874  1234  209321.241136\n",
       "875  1373  124622.378600\n",
       "876  1672  133176.112644\n",
       "877  1939  130861.652945\n",
       "\n",
       "[878 rows x 2 columns]"
      ]
     },
     "execution_count": 16,
     "metadata": {},
     "output_type": "execute_result"
    }
   ],
   "source": [
    "test[['id','saleprice']]"
   ]
  },
  {
   "cell_type": "code",
   "execution_count": 17,
   "metadata": {},
   "outputs": [],
   "source": [
    "test[['id','saleprice']].to_csv('../submissions/kaggle_sub_model_1.csv', index=False)"
   ]
  },
  {
   "cell_type": "markdown",
   "metadata": {},
   "source": [
    "## Model 2"
   ]
  },
  {
   "cell_type": "code",
   "execution_count": 18,
   "metadata": {},
   "outputs": [],
   "source": [
    "# Avoided multi-level 'Categorical Variables' to allow regularization in later approaches "
   ]
  },
  {
   "cell_type": "code",
   "execution_count": 19,
   "metadata": {},
   "outputs": [],
   "source": [
    "features2 = ['pool', \n",
    "             'cond_norm', \n",
    "             'cond_pos', \n",
    "             'LotFrontage', \n",
    "             'Year Built', \n",
    "             'BsmtFin SF 1', \n",
    "             'SF', \n",
    "             'TotRms AbvGrd', \n",
    "             'Garage Cars', \n",
    "             'Garage Area', \n",
    "             'outdoorSF']"
   ]
  },
  {
   "cell_type": "code",
   "execution_count": 20,
   "metadata": {},
   "outputs": [],
   "source": [
    "X = train[features2]\n",
    "y = train['SalePrice']\n",
    "\n",
    "X_train, X_test, y_train, y_test = train_test_split(X, y, random_state = 42)"
   ]
  },
  {
   "cell_type": "code",
   "execution_count": 21,
   "metadata": {},
   "outputs": [
    {
     "data": {
      "text/plain": [
       "(0.7165250436474981, 0.7668436248221406)"
      ]
     },
     "execution_count": 21,
     "metadata": {},
     "output_type": "execute_result"
    }
   ],
   "source": [
    "lr_1 = LinearRegression()\n",
    "lr_1.fit(X_train, y_train)\n",
    "lr_1.score(X_train, y_train), lr_1.score(X_test, y_test)"
   ]
  },
  {
   "cell_type": "code",
   "execution_count": 22,
   "metadata": {},
   "outputs": [],
   "source": [
    "test = pd.read_csv('../data/test_clean.csv', keep_default_na=False, na_values=[''])"
   ]
  },
  {
   "cell_type": "code",
   "execution_count": 23,
   "metadata": {},
   "outputs": [],
   "source": [
    "X = test[features2]"
   ]
  },
  {
   "cell_type": "code",
   "execution_count": 24,
   "metadata": {},
   "outputs": [],
   "source": [
    "# Generate predicted values for test data and export Kaggle Submission 2"
   ]
  },
  {
   "cell_type": "code",
   "execution_count": 25,
   "metadata": {},
   "outputs": [],
   "source": [
    "kaggle_preds = lr_1.predict(X)"
   ]
  },
  {
   "cell_type": "code",
   "execution_count": 26,
   "metadata": {},
   "outputs": [],
   "source": [
    "test.columns = [column.replace(' ', '_').lower() for column in test.columns]"
   ]
  },
  {
   "cell_type": "code",
   "execution_count": 27,
   "metadata": {},
   "outputs": [],
   "source": [
    "test['saleprice'] = kaggle_preds"
   ]
  },
  {
   "cell_type": "code",
   "execution_count": 28,
   "metadata": {},
   "outputs": [],
   "source": [
    "kaggle_sub_data = test[['id','saleprice']]"
   ]
  },
  {
   "cell_type": "code",
   "execution_count": 29,
   "metadata": {},
   "outputs": [
    {
     "data": {
      "text/html": [
       "<div>\n",
       "<style scoped>\n",
       "    .dataframe tbody tr th:only-of-type {\n",
       "        vertical-align: middle;\n",
       "    }\n",
       "\n",
       "    .dataframe tbody tr th {\n",
       "        vertical-align: top;\n",
       "    }\n",
       "\n",
       "    .dataframe thead th {\n",
       "        text-align: right;\n",
       "    }\n",
       "</style>\n",
       "<table border=\"1\" class=\"dataframe\">\n",
       "  <thead>\n",
       "    <tr style=\"text-align: right;\">\n",
       "      <th></th>\n",
       "      <th>id</th>\n",
       "      <th>saleprice</th>\n",
       "    </tr>\n",
       "  </thead>\n",
       "  <tbody>\n",
       "    <tr>\n",
       "      <th>0</th>\n",
       "      <td>2658</td>\n",
       "      <td>150562.384981</td>\n",
       "    </tr>\n",
       "    <tr>\n",
       "      <th>1</th>\n",
       "      <td>2718</td>\n",
       "      <td>218813.820755</td>\n",
       "    </tr>\n",
       "    <tr>\n",
       "      <th>2</th>\n",
       "      <td>2414</td>\n",
       "      <td>208208.607552</td>\n",
       "    </tr>\n",
       "    <tr>\n",
       "      <th>3</th>\n",
       "      <td>1989</td>\n",
       "      <td>98401.720816</td>\n",
       "    </tr>\n",
       "    <tr>\n",
       "      <th>4</th>\n",
       "      <td>625</td>\n",
       "      <td>176280.490586</td>\n",
       "    </tr>\n",
       "    <tr>\n",
       "      <th>...</th>\n",
       "      <td>...</td>\n",
       "      <td>...</td>\n",
       "    </tr>\n",
       "    <tr>\n",
       "      <th>873</th>\n",
       "      <td>1662</td>\n",
       "      <td>257226.404002</td>\n",
       "    </tr>\n",
       "    <tr>\n",
       "      <th>874</th>\n",
       "      <td>1234</td>\n",
       "      <td>227648.425302</td>\n",
       "    </tr>\n",
       "    <tr>\n",
       "      <th>875</th>\n",
       "      <td>1373</td>\n",
       "      <td>120268.649577</td>\n",
       "    </tr>\n",
       "    <tr>\n",
       "      <th>876</th>\n",
       "      <td>1672</td>\n",
       "      <td>141326.494870</td>\n",
       "    </tr>\n",
       "    <tr>\n",
       "      <th>877</th>\n",
       "      <td>1939</td>\n",
       "      <td>126781.382373</td>\n",
       "    </tr>\n",
       "  </tbody>\n",
       "</table>\n",
       "<p>878 rows × 2 columns</p>\n",
       "</div>"
      ],
      "text/plain": [
       "       id      saleprice\n",
       "0    2658  150562.384981\n",
       "1    2718  218813.820755\n",
       "2    2414  208208.607552\n",
       "3    1989   98401.720816\n",
       "4     625  176280.490586\n",
       "..    ...            ...\n",
       "873  1662  257226.404002\n",
       "874  1234  227648.425302\n",
       "875  1373  120268.649577\n",
       "876  1672  141326.494870\n",
       "877  1939  126781.382373\n",
       "\n",
       "[878 rows x 2 columns]"
      ]
     },
     "execution_count": 29,
     "metadata": {},
     "output_type": "execute_result"
    }
   ],
   "source": [
    "kaggle_sub_data"
   ]
  },
  {
   "cell_type": "code",
   "execution_count": 30,
   "metadata": {},
   "outputs": [],
   "source": [
    "kaggle_sub_data[['id','saleprice']].to_csv('../submissions/kaggle_sub_model_2.csv', index=False)"
   ]
  },
  {
   "cell_type": "markdown",
   "metadata": {},
   "source": [
    "## Model 3"
   ]
  },
  {
   "cell_type": "code",
   "execution_count": 31,
   "metadata": {},
   "outputs": [],
   "source": [
    "# Eliminate colinearities and features validation found less valuable\n",
    "# Remove Neighborhoods that mismatched between test and train"
   ]
  },
  {
   "cell_type": "code",
   "execution_count": 32,
   "metadata": {},
   "outputs": [],
   "source": [
    "features = ['Neighborhood', \n",
    "            'foundations', \n",
    "            'central_air', \n",
    "            'garage_index', \n",
    "            'pool', 'cond_norm', \n",
    "            'cond_pos', \n",
    "            'LotFrontage', \n",
    "            'Year Built', \n",
    "            'BsmtFin SF 1',\n",
    "            'SF', \n",
    "            'outdoorSF']"
   ]
  },
  {
   "cell_type": "code",
   "execution_count": 33,
   "metadata": {},
   "outputs": [],
   "source": [
    "X = train[features]\n",
    "X = pd.get_dummies(X, columns=['Neighborhood'], drop_first=True)\n",
    "X.drop(columns=['Neighborhood_GrnHill','Neighborhood_Landmrk'], inplace=True)\n",
    "y = train['SalePrice']\n",
    "\n",
    "X_train, X_test, y_train, y_test = train_test_split(X, y, random_state = 42)"
   ]
  },
  {
   "cell_type": "code",
   "execution_count": 34,
   "metadata": {},
   "outputs": [
    {
     "data": {
      "text/plain": [
       "(0.8006867274665588, 0.8172411078068521)"
      ]
     },
     "execution_count": 34,
     "metadata": {},
     "output_type": "execute_result"
    }
   ],
   "source": [
    "lr_1 = LinearRegression()\n",
    "lr_1.fit(X_train, y_train)\n",
    "lr_1.score(X_train, y_train), lr_1.score(X_test, y_test)"
   ]
  },
  {
   "cell_type": "code",
   "execution_count": 35,
   "metadata": {
    "scrolled": true
   },
   "outputs": [
    {
     "name": "stdout",
     "output_type": "stream",
     "text": [
      "<class 'pandas.core.frame.DataFrame'>\n",
      "RangeIndex: 2051 entries, 0 to 2050\n",
      "Data columns (total 36 columns):\n",
      " #   Column                Non-Null Count  Dtype  \n",
      "---  ------                --------------  -----  \n",
      " 0   foundations           2051 non-null   int64  \n",
      " 1   central_air           2051 non-null   int64  \n",
      " 2   garage_index          2051 non-null   float64\n",
      " 3   pool                  2051 non-null   int64  \n",
      " 4   cond_norm             2051 non-null   int64  \n",
      " 5   cond_pos              2051 non-null   int64  \n",
      " 6   LotFrontage           2051 non-null   float64\n",
      " 7   Year Built            2051 non-null   int64  \n",
      " 8   BsmtFin SF 1          2051 non-null   float64\n",
      " 9   SF                    2051 non-null   int64  \n",
      " 10  outdoorSF             2051 non-null   int64  \n",
      " 11  Neighborhood_Blueste  2051 non-null   uint8  \n",
      " 12  Neighborhood_BrDale   2051 non-null   uint8  \n",
      " 13  Neighborhood_BrkSide  2051 non-null   uint8  \n",
      " 14  Neighborhood_ClearCr  2051 non-null   uint8  \n",
      " 15  Neighborhood_CollgCr  2051 non-null   uint8  \n",
      " 16  Neighborhood_Crawfor  2051 non-null   uint8  \n",
      " 17  Neighborhood_Edwards  2051 non-null   uint8  \n",
      " 18  Neighborhood_Gilbert  2051 non-null   uint8  \n",
      " 19  Neighborhood_Greens   2051 non-null   uint8  \n",
      " 20  Neighborhood_IDOTRR   2051 non-null   uint8  \n",
      " 21  Neighborhood_MeadowV  2051 non-null   uint8  \n",
      " 22  Neighborhood_Mitchel  2051 non-null   uint8  \n",
      " 23  Neighborhood_NAmes    2051 non-null   uint8  \n",
      " 24  Neighborhood_NPkVill  2051 non-null   uint8  \n",
      " 25  Neighborhood_NWAmes   2051 non-null   uint8  \n",
      " 26  Neighborhood_NoRidge  2051 non-null   uint8  \n",
      " 27  Neighborhood_NridgHt  2051 non-null   uint8  \n",
      " 28  Neighborhood_OldTown  2051 non-null   uint8  \n",
      " 29  Neighborhood_SWISU    2051 non-null   uint8  \n",
      " 30  Neighborhood_Sawyer   2051 non-null   uint8  \n",
      " 31  Neighborhood_SawyerW  2051 non-null   uint8  \n",
      " 32  Neighborhood_Somerst  2051 non-null   uint8  \n",
      " 33  Neighborhood_StoneBr  2051 non-null   uint8  \n",
      " 34  Neighborhood_Timber   2051 non-null   uint8  \n",
      " 35  Neighborhood_Veenker  2051 non-null   uint8  \n",
      "dtypes: float64(3), int64(8), uint8(25)\n",
      "memory usage: 226.5 KB\n"
     ]
    }
   ],
   "source": [
    "X.info()"
   ]
  },
  {
   "cell_type": "code",
   "execution_count": 36,
   "metadata": {},
   "outputs": [],
   "source": [
    "# Generate predicted values for test data and export Kaggle Submission 3"
   ]
  },
  {
   "cell_type": "code",
   "execution_count": 37,
   "metadata": {},
   "outputs": [],
   "source": [
    "test = pd.read_csv('../data/test_clean.csv', keep_default_na=False, na_values=[''])"
   ]
  },
  {
   "cell_type": "code",
   "execution_count": 38,
   "metadata": {},
   "outputs": [],
   "source": [
    "X = test[features]\n",
    "X = pd.get_dummies(X, columns=['Neighborhood'], drop_first=True)"
   ]
  },
  {
   "cell_type": "code",
   "execution_count": 39,
   "metadata": {},
   "outputs": [],
   "source": [
    "kaggle_preds = lr_1.predict(X)"
   ]
  },
  {
   "cell_type": "code",
   "execution_count": 40,
   "metadata": {},
   "outputs": [],
   "source": [
    "test.columns = [column.replace(' ', '_').lower() for column in test.columns]"
   ]
  },
  {
   "cell_type": "code",
   "execution_count": 41,
   "metadata": {},
   "outputs": [],
   "source": [
    "test['saleprice'] = kaggle_preds"
   ]
  },
  {
   "cell_type": "code",
   "execution_count": 42,
   "metadata": {},
   "outputs": [
    {
     "data": {
      "text/html": [
       "<div>\n",
       "<style scoped>\n",
       "    .dataframe tbody tr th:only-of-type {\n",
       "        vertical-align: middle;\n",
       "    }\n",
       "\n",
       "    .dataframe tbody tr th {\n",
       "        vertical-align: top;\n",
       "    }\n",
       "\n",
       "    .dataframe thead th {\n",
       "        text-align: right;\n",
       "    }\n",
       "</style>\n",
       "<table border=\"1\" class=\"dataframe\">\n",
       "  <thead>\n",
       "    <tr style=\"text-align: right;\">\n",
       "      <th></th>\n",
       "      <th>id</th>\n",
       "      <th>saleprice</th>\n",
       "    </tr>\n",
       "  </thead>\n",
       "  <tbody>\n",
       "    <tr>\n",
       "      <th>0</th>\n",
       "      <td>2658</td>\n",
       "      <td>131216.773153</td>\n",
       "    </tr>\n",
       "    <tr>\n",
       "      <th>1</th>\n",
       "      <td>2718</td>\n",
       "      <td>186819.777000</td>\n",
       "    </tr>\n",
       "    <tr>\n",
       "      <th>2</th>\n",
       "      <td>2414</td>\n",
       "      <td>191675.665500</td>\n",
       "    </tr>\n",
       "    <tr>\n",
       "      <th>3</th>\n",
       "      <td>1989</td>\n",
       "      <td>93167.097635</td>\n",
       "    </tr>\n",
       "    <tr>\n",
       "      <th>4</th>\n",
       "      <td>625</td>\n",
       "      <td>163122.040560</td>\n",
       "    </tr>\n",
       "    <tr>\n",
       "      <th>...</th>\n",
       "      <td>...</td>\n",
       "      <td>...</td>\n",
       "    </tr>\n",
       "    <tr>\n",
       "      <th>873</th>\n",
       "      <td>1662</td>\n",
       "      <td>243880.101951</td>\n",
       "    </tr>\n",
       "    <tr>\n",
       "      <th>874</th>\n",
       "      <td>1234</td>\n",
       "      <td>205378.185587</td>\n",
       "    </tr>\n",
       "    <tr>\n",
       "      <th>875</th>\n",
       "      <td>1373</td>\n",
       "      <td>119148.855029</td>\n",
       "    </tr>\n",
       "    <tr>\n",
       "      <th>876</th>\n",
       "      <td>1672</td>\n",
       "      <td>137313.049936</td>\n",
       "    </tr>\n",
       "    <tr>\n",
       "      <th>877</th>\n",
       "      <td>1939</td>\n",
       "      <td>124694.905160</td>\n",
       "    </tr>\n",
       "  </tbody>\n",
       "</table>\n",
       "<p>878 rows × 2 columns</p>\n",
       "</div>"
      ],
      "text/plain": [
       "       id      saleprice\n",
       "0    2658  131216.773153\n",
       "1    2718  186819.777000\n",
       "2    2414  191675.665500\n",
       "3    1989   93167.097635\n",
       "4     625  163122.040560\n",
       "..    ...            ...\n",
       "873  1662  243880.101951\n",
       "874  1234  205378.185587\n",
       "875  1373  119148.855029\n",
       "876  1672  137313.049936\n",
       "877  1939  124694.905160\n",
       "\n",
       "[878 rows x 2 columns]"
      ]
     },
     "execution_count": 42,
     "metadata": {},
     "output_type": "execute_result"
    }
   ],
   "source": [
    "test[['id','saleprice']]"
   ]
  },
  {
   "cell_type": "code",
   "execution_count": 44,
   "metadata": {},
   "outputs": [],
   "source": [
    "test[['id','saleprice']].to_csv('../submissions/kaggle_sub_model_3.csv', index=False)"
   ]
  }
 ],
 "metadata": {
  "kernelspec": {
   "display_name": "Python 3",
   "language": "python",
   "name": "python3"
  },
  "language_info": {
   "codemirror_mode": {
    "name": "ipython",
    "version": 3
   },
   "file_extension": ".py",
   "mimetype": "text/x-python",
   "name": "python",
   "nbconvert_exporter": "python",
   "pygments_lexer": "ipython3",
   "version": "3.8.5"
  }
 },
 "nbformat": 4,
 "nbformat_minor": 4
}
