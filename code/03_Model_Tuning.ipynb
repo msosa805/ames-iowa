{
 "cells": [
  {
   "cell_type": "markdown",
   "metadata": {},
   "source": [
    "<img src=\"https://i.imgur.com/JDsOpVN.png\" style=\"float: left; margin: 20px; height: 290px\">\n",
    "\n",
    "# Model Tuning\n",
    "\n",
    "---\n",
    "Predicting House Prices with Linear Regression\n",
    "\n",
    "**Author**: Miriam Sosa\n",
    "\n",
    "1. [Model Selection](#Model-Selection)\n",
    "    - [Linear Regression](#Linear-Regression)\n",
    "    - [Ridge](#Ridge)\n",
    "    - [Logistic Regression](#Logistic-Regression)\n",
    "    - [Elastic Net](#Elastic-Net)"
   ]
  },
  {
   "cell_type": "code",
   "execution_count": 1,
   "metadata": {},
   "outputs": [],
   "source": [
    "import matplotlib.pyplot as plt\n",
    "import numpy as np\n",
    "import pandas as pd           \n",
    "import seaborn as sns\n",
    "\n",
    "from sklearn.linear_model import LinearRegression, Ridge, ElasticNetCV, LogisticRegression, LogisticRegressionCV\n",
    "from sklearn.model_selection import train_test_split\n",
    "from sklearn.preprocessing import PolynomialFeatures, StandardScaler "
   ]
  },
  {
   "cell_type": "code",
   "execution_count": 2,
   "metadata": {},
   "outputs": [],
   "source": [
    "train = pd.read_csv('../data/train_clean.csv', keep_default_na=False, na_values=['']) \n",
    "test = pd.read_csv('../data/test_clean.csv', keep_default_na=False, na_values=[''])"
   ]
  },
  {
   "cell_type": "code",
   "execution_count": 3,
   "metadata": {},
   "outputs": [
    {
     "data": {
      "text/plain": [
       "((2051, 93), (878, 91))"
      ]
     },
     "execution_count": 3,
     "metadata": {},
     "output_type": "execute_result"
    }
   ],
   "source": [
    "train.shape, test.shape"
   ]
  },
  {
   "cell_type": "code",
   "execution_count": 4,
   "metadata": {
    "scrolled": true
   },
   "outputs": [
    {
     "name": "stdout",
     "output_type": "stream",
     "text": [
      "<class 'pandas.core.frame.DataFrame'>\n",
      "RangeIndex: 2051 entries, 0 to 2050\n",
      "Data columns (total 93 columns):\n",
      " #   Column           Non-Null Count  Dtype  \n",
      "---  ------           --------------  -----  \n",
      " 0   Id               2051 non-null   int64  \n",
      " 1   PID              2051 non-null   int64  \n",
      " 2   MS SubClass      2051 non-null   int64  \n",
      " 3   MS Zoning        2051 non-null   object \n",
      " 4   LotFrontage      2051 non-null   float64\n",
      " 5   Lot Area         2051 non-null   int64  \n",
      " 6   Street           2051 non-null   object \n",
      " 7   Alley            2051 non-null   object \n",
      " 8   LotShape         2051 non-null   object \n",
      " 9   Land Contour     2051 non-null   object \n",
      " 10  Utilities        2051 non-null   object \n",
      " 11  LotConfig        2051 non-null   object \n",
      " 12  Land Slope       2051 non-null   object \n",
      " 13  Neighborhood     2051 non-null   object \n",
      " 14  Condition 1      2051 non-null   object \n",
      " 15  Condition 2      2051 non-null   object \n",
      " 16  Bldg Type        2051 non-null   object \n",
      " 17  House Style      2051 non-null   object \n",
      " 18  Overall Qual     2051 non-null   int64  \n",
      " 19  Overall Cond     2051 non-null   int64  \n",
      " 20  Year Built       2051 non-null   int64  \n",
      " 21  Year Remod/Add   2051 non-null   int64  \n",
      " 22  Roof Style       2051 non-null   object \n",
      " 23  Roof Matl        2051 non-null   object \n",
      " 24  Exterior 1st     2051 non-null   object \n",
      " 25  Exterior 2nd     2051 non-null   object \n",
      " 26  Mas Vnr Type     2051 non-null   object \n",
      " 27  Mas Vnr Area     2051 non-null   float64\n",
      " 28  Exter Qual       2051 non-null   object \n",
      " 29  Exter Cond       2051 non-null   object \n",
      " 30  Foundation       2051 non-null   object \n",
      " 31  Bsmt Qual        2051 non-null   object \n",
      " 32  Bsmt Cond        2051 non-null   object \n",
      " 33  Bsmt Exposure    2051 non-null   object \n",
      " 34  BsmtFin Type 1   2051 non-null   object \n",
      " 35  BsmtFin SF 1     2051 non-null   float64\n",
      " 36  BsmtFin Type 2   2051 non-null   object \n",
      " 37  BsmtFin SF 2     2051 non-null   float64\n",
      " 38  Bsmt Unf SF      2051 non-null   float64\n",
      " 39  Total Bsmt SF    2051 non-null   float64\n",
      " 40  Heating          2051 non-null   object \n",
      " 41  Heating QC       2051 non-null   object \n",
      " 42  Central Air      2051 non-null   object \n",
      " 43  Electrical       2051 non-null   object \n",
      " 44  1st Flr SF       2051 non-null   int64  \n",
      " 45  2nd Flr SF       2051 non-null   int64  \n",
      " 46  Low Qual Fin SF  2051 non-null   int64  \n",
      " 47  Gr Liv Area      2051 non-null   int64  \n",
      " 48  Bsmt Full Bath   2051 non-null   float64\n",
      " 49  Bsmt Half Bath   2051 non-null   float64\n",
      " 50  Full Bath        2051 non-null   int64  \n",
      " 51  Half Bath        2051 non-null   int64  \n",
      " 52  Bedroom AbvGr    2051 non-null   int64  \n",
      " 53  Kitchen AbvGr    2051 non-null   int64  \n",
      " 54  Kitchen Qual     2051 non-null   object \n",
      " 55  TotRms AbvGrd    2051 non-null   int64  \n",
      " 56  Functional       2051 non-null   object \n",
      " 57  Fireplaces       2051 non-null   int64  \n",
      " 58  Fireplace Qu     2051 non-null   object \n",
      " 59  Garage Type      2051 non-null   object \n",
      " 60  Garage Yr Blt    2051 non-null   float64\n",
      " 61  Garage Finish    2051 non-null   object \n",
      " 62  Garage Cars      2051 non-null   float64\n",
      " 63  Garage Area      2051 non-null   float64\n",
      " 64  Garage Qual      2051 non-null   object \n",
      " 65  Garage Cond      2051 non-null   object \n",
      " 66  Paved Drive      2051 non-null   object \n",
      " 67  Wood Deck SF     2051 non-null   int64  \n",
      " 68  Open Porch SF    2051 non-null   int64  \n",
      " 69  Enclosed Porch   2051 non-null   int64  \n",
      " 70  3Ssn Porch       2051 non-null   int64  \n",
      " 71  Screen Porch     2051 non-null   int64  \n",
      " 72  Pool Area        2051 non-null   int64  \n",
      " 73  Pool QC          2051 non-null   object \n",
      " 74  Fence            2051 non-null   object \n",
      " 75  Misc Feature     2051 non-null   object \n",
      " 76  Misc Val         2051 non-null   int64  \n",
      " 77  Mo Sold          2051 non-null   int64  \n",
      " 78  Yr Sold          2051 non-null   int64  \n",
      " 79  Sale Type        2051 non-null   object \n",
      " 80  SalePrice        2051 non-null   int64  \n",
      " 81  SF               2051 non-null   int64  \n",
      " 82  baths            2051 non-null   float64\n",
      " 83  pool             2051 non-null   int64  \n",
      " 84  outdoorSF        2051 non-null   int64  \n",
      " 85  overallpoor      2051 non-null   int64  \n",
      " 86  cond_norm        2051 non-null   int64  \n",
      " 87  cond_pos         2051 non-null   int64  \n",
      " 88  garage_qual      2051 non-null   int64  \n",
      " 89  garage_index     2051 non-null   float64\n",
      " 90  foundations      2051 non-null   int64  \n",
      " 91  central_air      2051 non-null   int64  \n",
      " 92  Lot0             2051 non-null   float64\n",
      "dtypes: float64(14), int64(37), object(42)\n",
      "memory usage: 1.5+ MB\n"
     ]
    }
   ],
   "source": [
    "train.info()"
   ]
  },
  {
   "cell_type": "markdown",
   "metadata": {},
   "source": [
    "# Model Selection"
   ]
  },
  {
   "cell_type": "markdown",
   "metadata": {},
   "source": [
    "## Linear Regression"
   ]
  },
  {
   "cell_type": "code",
   "execution_count": 5,
   "metadata": {},
   "outputs": [],
   "source": [
    "features = ['foundations', \n",
    "            'central_air', \n",
    "            'garage_index', \n",
    "            'pool', \n",
    "            'cond_norm', \n",
    "            'cond_pos', \n",
    "            'LotFrontage', \n",
    "            'Year Built', \n",
    "            'BsmtFin SF 1', \n",
    "            'SF', \n",
    "            'outdoorSF']"
   ]
  },
  {
   "cell_type": "code",
   "execution_count": 6,
   "metadata": {},
   "outputs": [],
   "source": [
    "X = train[features]\n",
    "y = train['SalePrice']\n",
    "\n",
    "X_train, X_test, y_train, y_test = train_test_split(X, y, random_state = 42)"
   ]
  },
  {
   "cell_type": "code",
   "execution_count": 7,
   "metadata": {},
   "outputs": [
    {
     "data": {
      "text/plain": [
       "(0.7214982452068421, 0.7732696059334563)"
      ]
     },
     "execution_count": 7,
     "metadata": {},
     "output_type": "execute_result"
    }
   ],
   "source": [
    "lr_1 = LinearRegression()\n",
    "lr_1.fit(X_train, y_train)\n",
    "lr_1.score(X_train, y_train), lr_1.score(X_test, y_test)"
   ]
  },
  {
   "cell_type": "markdown",
   "metadata": {},
   "source": [
    "# Regularization"
   ]
  },
  {
   "cell_type": "code",
   "execution_count": 8,
   "metadata": {},
   "outputs": [],
   "source": [
    "X = train[features]\n",
    "y = train['SalePrice']\n",
    "\n",
    "poly = PolynomialFeatures(degree=2, interaction_only=False, include_bias=False)\n",
    "\n",
    "X_overfit = poly.fit_transform(X)"
   ]
  },
  {
   "cell_type": "code",
   "execution_count": 9,
   "metadata": {
    "scrolled": true
   },
   "outputs": [
    {
     "data": {
      "text/plain": [
       "['foundations',\n",
       " 'central_air',\n",
       " 'garage_index',\n",
       " 'pool',\n",
       " 'cond_norm',\n",
       " 'cond_pos',\n",
       " 'LotFrontage',\n",
       " 'Year Built',\n",
       " 'BsmtFin SF 1',\n",
       " 'SF',\n",
       " 'outdoorSF',\n",
       " 'foundations^2',\n",
       " 'foundations central_air',\n",
       " 'foundations garage_index',\n",
       " 'foundations pool',\n",
       " 'foundations cond_norm',\n",
       " 'foundations cond_pos',\n",
       " 'foundations LotFrontage',\n",
       " 'foundations Year Built',\n",
       " 'foundations BsmtFin SF 1',\n",
       " 'foundations SF',\n",
       " 'foundations outdoorSF',\n",
       " 'central_air^2',\n",
       " 'central_air garage_index',\n",
       " 'central_air pool',\n",
       " 'central_air cond_norm',\n",
       " 'central_air cond_pos',\n",
       " 'central_air LotFrontage',\n",
       " 'central_air Year Built',\n",
       " 'central_air BsmtFin SF 1',\n",
       " 'central_air SF',\n",
       " 'central_air outdoorSF',\n",
       " 'garage_index^2',\n",
       " 'garage_index pool',\n",
       " 'garage_index cond_norm',\n",
       " 'garage_index cond_pos',\n",
       " 'garage_index LotFrontage',\n",
       " 'garage_index Year Built',\n",
       " 'garage_index BsmtFin SF 1',\n",
       " 'garage_index SF',\n",
       " 'garage_index outdoorSF',\n",
       " 'pool^2',\n",
       " 'pool cond_norm',\n",
       " 'pool cond_pos',\n",
       " 'pool LotFrontage',\n",
       " 'pool Year Built',\n",
       " 'pool BsmtFin SF 1',\n",
       " 'pool SF',\n",
       " 'pool outdoorSF',\n",
       " 'cond_norm^2',\n",
       " 'cond_norm cond_pos',\n",
       " 'cond_norm LotFrontage',\n",
       " 'cond_norm Year Built',\n",
       " 'cond_norm BsmtFin SF 1',\n",
       " 'cond_norm SF',\n",
       " 'cond_norm outdoorSF',\n",
       " 'cond_pos^2',\n",
       " 'cond_pos LotFrontage',\n",
       " 'cond_pos Year Built',\n",
       " 'cond_pos BsmtFin SF 1',\n",
       " 'cond_pos SF',\n",
       " 'cond_pos outdoorSF',\n",
       " 'LotFrontage^2',\n",
       " 'LotFrontage Year Built',\n",
       " 'LotFrontage BsmtFin SF 1',\n",
       " 'LotFrontage SF',\n",
       " 'LotFrontage outdoorSF',\n",
       " 'Year Built^2',\n",
       " 'Year Built BsmtFin SF 1',\n",
       " 'Year Built SF',\n",
       " 'Year Built outdoorSF',\n",
       " 'BsmtFin SF 1^2',\n",
       " 'BsmtFin SF 1 SF',\n",
       " 'BsmtFin SF 1 outdoorSF',\n",
       " 'SF^2',\n",
       " 'SF outdoorSF',\n",
       " 'outdoorSF^2']"
      ]
     },
     "execution_count": 9,
     "metadata": {},
     "output_type": "execute_result"
    }
   ],
   "source": [
    "poly.get_feature_names(X.columns)"
   ]
  },
  {
   "cell_type": "code",
   "execution_count": 10,
   "metadata": {},
   "outputs": [
    {
     "data": {
      "text/plain": [
       "(2051, 77)"
      ]
     },
     "execution_count": 10,
     "metadata": {},
     "output_type": "execute_result"
    }
   ],
   "source": [
    "X_overfit.shape"
   ]
  },
  {
   "cell_type": "code",
   "execution_count": 11,
   "metadata": {},
   "outputs": [],
   "source": [
    "X_train, X_test, y_train, y_test = train_test_split(X_overfit, \n",
    "                                                    y,\n",
    "                                                    test_size=0.7,\n",
    "                                                    random_state=42)"
   ]
  },
  {
   "cell_type": "code",
   "execution_count": 12,
   "metadata": {},
   "outputs": [],
   "source": [
    "sc = StandardScaler()\n",
    "Z_train = sc.fit_transform(X_train)\n",
    "Z_test = sc.transform(X_test)"
   ]
  },
  {
   "cell_type": "code",
   "execution_count": 13,
   "metadata": {},
   "outputs": [
    {
     "name": "stdout",
     "output_type": "stream",
     "text": [
      "Z_train shape is: (615, 77)\n",
      "y_train shape is: (615,)\n",
      "Z_test shape is: (1436, 77)\n",
      "y_test shape is: (1436,)\n"
     ]
    }
   ],
   "source": [
    "print(f'Z_train shape is: {Z_train.shape}')\n",
    "print(f'y_train shape is: {y_train.shape}')\n",
    "print(f'Z_test shape is: {Z_test.shape}')\n",
    "print(f'y_test shape is: {y_test.shape}')"
   ]
  },
  {
   "cell_type": "code",
   "execution_count": 14,
   "metadata": {},
   "outputs": [
    {
     "data": {
      "text/plain": [
       "LinearRegression()"
      ]
     },
     "execution_count": 14,
     "metadata": {},
     "output_type": "execute_result"
    }
   ],
   "source": [
    "ols = LinearRegression()\n",
    "ols.fit(Z_train, y_train)"
   ]
  },
  {
   "cell_type": "code",
   "execution_count": 15,
   "metadata": {},
   "outputs": [
    {
     "name": "stdout",
     "output_type": "stream",
     "text": [
      "0.8416907481721667\n",
      "-1.7795170765833418e+23\n"
     ]
    }
   ],
   "source": [
    "print(ols.score(Z_train, y_train))\n",
    "print(ols.score(Z_test, y_test))"
   ]
  },
  {
   "cell_type": "markdown",
   "metadata": {},
   "source": [
    " R2 is negative "
   ]
  },
  {
   "cell_type": "markdown",
   "metadata": {},
   "source": [
    "# Ridge"
   ]
  },
  {
   "cell_type": "code",
   "execution_count": 16,
   "metadata": {},
   "outputs": [
    {
     "name": "stdout",
     "output_type": "stream",
     "text": [
      "0.816809119665017\n",
      "0.7800208993364244\n"
     ]
    }
   ],
   "source": [
    "ridge_model = Ridge(alpha=10)\n",
    "\n",
    "ridge_model.fit(Z_train, y_train)\n",
    "\n",
    "print(ridge_model.score(Z_train, y_train))\n",
    "print(ridge_model.score(Z_test, y_test))"
   ]
  },
  {
   "cell_type": "code",
   "execution_count": null,
   "metadata": {},
   "outputs": [],
   "source": [
    "# Scores are slightly better compared to my multiple linear regression model that included neighborhood"
   ]
  },
  {
   "cell_type": "markdown",
   "metadata": {},
   "source": [
    "## Logistic Regression"
   ]
  },
  {
   "cell_type": "code",
   "execution_count": 18,
   "metadata": {},
   "outputs": [
    {
     "data": {
      "text/plain": [
       "LogisticRegression(penalty='none')"
      ]
     },
     "execution_count": 18,
     "metadata": {},
     "output_type": "execute_result"
    }
   ],
   "source": [
    "LogisticRegression(penalty='none')"
   ]
  },
  {
   "cell_type": "code",
   "execution_count": 19,
   "metadata": {},
   "outputs": [],
   "source": [
    "from sklearn.datasets import make_classification"
   ]
  },
  {
   "cell_type": "code",
   "execution_count": 20,
   "metadata": {},
   "outputs": [],
   "source": [
    "X, y = make_classification(\n",
    "    n_samples=1000,\n",
    "    n_features=200,\n",
    "    n_informative=15,\n",
    "    random_state=123\n",
    ")\n",
    "\n",
    "X_train, X_test, y_train, y_test = train_test_split(X, y, random_state=123)\n",
    "\n",
    "sc = StandardScaler()\n",
    "X_train_sc = sc.fit_transform(X_train)\n",
    "X_test_sc = sc.transform(X_test)"
   ]
  },
  {
   "cell_type": "code",
   "execution_count": 21,
   "metadata": {},
   "outputs": [
    {
     "name": "stdout",
     "output_type": "stream",
     "text": [
      "0.9306666666666666\n",
      "0.636\n"
     ]
    }
   ],
   "source": [
    "logreg = LogisticRegression(C=1e9, solver='lbfgs')\n",
    "logreg.fit(X_train_sc, y_train)\n",
    "\n",
    "# Overfit model (low on test score, high on train)\n",
    "print(logreg.score(X_train_sc, y_train))\n",
    "print(logreg.score(X_test_sc, y_test))"
   ]
  },
  {
   "cell_type": "code",
   "execution_count": 22,
   "metadata": {},
   "outputs": [
    {
     "name": "stdout",
     "output_type": "stream",
     "text": [
      "0.8146666666666667\n",
      "0.812\n"
     ]
    }
   ],
   "source": [
    "logreg_cv = LogisticRegressionCV(Cs=10, cv=5, penalty=\"l1\", solver=\"liblinear\")\n",
    "logreg_cv.fit(X_train_sc, y_train)\n",
    "\n",
    "#much better overall - comparable to production model\n",
    "print(logreg_cv.score(X_train_sc, y_train))\n",
    "print(logreg_cv.score(X_test_sc, y_test))"
   ]
  },
  {
   "cell_type": "markdown",
   "metadata": {},
   "source": [
    "### These scores are good, but not much better than the multiple linear regression model w/ a dummy variable for neighborhood. \n",
    "\n",
    "### Will use the multiple linear regression model "
   ]
  },
  {
   "cell_type": "code",
   "execution_count": 23,
   "metadata": {},
   "outputs": [
    {
     "data": {
      "text/plain": [
       "array([0.04641589])"
      ]
     },
     "execution_count": 23,
     "metadata": {},
     "output_type": "execute_result"
    }
   ],
   "source": [
    "logreg_cv.C_"
   ]
  },
  {
   "cell_type": "markdown",
   "metadata": {},
   "source": [
    "## Elastic Net"
   ]
  },
  {
   "cell_type": "code",
   "execution_count": 24,
   "metadata": {},
   "outputs": [
    {
     "name": "stdout",
     "output_type": "stream",
     "text": [
      "0.21246113948141965\n",
      "0.21368840628470098\n"
     ]
    }
   ],
   "source": [
    "enet_alphas = np.linspace(0.5, 1.0, 100)\n",
    "\n",
    "enet_ratio = 0.5\n",
    "\n",
    "enet_model = ElasticNetCV(alphas=enet_alphas, l1_ratio=enet_ratio, cv=5)\n",
    "\n",
    "enet_model = enet_model.fit(X_train, y_train)\n",
    "\n",
    "enet_model_preds = enet_model.predict(X_test)\n",
    "enet_model_preds_train = enet_model.predict(X_train)\n",
    "\n",
    "print(enet_model.score(X_train, y_train))\n",
    "print(enet_model.score(X_test, y_test))"
   ]
  },
  {
   "cell_type": "markdown",
   "metadata": {},
   "source": [
    "### Very low scores compared to other approaches investigated here and MLS"
   ]
  },
  {
   "cell_type": "code",
   "execution_count": 25,
   "metadata": {},
   "outputs": [
    {
     "data": {
      "text/plain": [
       "0.5"
      ]
     },
     "execution_count": 25,
     "metadata": {},
     "output_type": "execute_result"
    }
   ],
   "source": [
    "enet_model.alpha_"
   ]
  }
 ],
 "metadata": {
  "kernelspec": {
   "display_name": "Python 3",
   "language": "python",
   "name": "python3"
  },
  "language_info": {
   "codemirror_mode": {
    "name": "ipython",
    "version": 3
   },
   "file_extension": ".py",
   "mimetype": "text/x-python",
   "name": "python",
   "nbconvert_exporter": "python",
   "pygments_lexer": "ipython3",
   "version": "3.8.5"
  }
 },
 "nbformat": 4,
 "nbformat_minor": 4
}
